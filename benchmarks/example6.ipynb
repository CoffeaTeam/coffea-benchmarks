{
 "cells": [
  {
   "cell_type": "code",
   "execution_count": 1,
   "metadata": {},
   "outputs": [],
   "source": [
    "import numpy as np\n",
    "%matplotlib inline\n",
    "from coffea import hist\n",
    "from coffea.analysis_objects import JaggedCandidateArray\n",
    "import coffea.processor as processor"
   ]
  },
  {
   "cell_type": "code",
   "execution_count": 2,
   "metadata": {},
   "outputs": [],
   "source": [
    "# This program plots the pT of the trijet system in each event with mass closest to 172.5, as well as the maximum b-tag among the three plotted jets.\n",
    "\n",
    "class Processor(processor.ProcessorABC):\n",
    "    def __init__(self):\n",
    "        dataset_axis = hist.Cat(\"dataset\", \"\")\n",
    "        Jet_axis = hist.Bin(\"Jet_pt\", \"Jet [GeV]\", 50, 15, 200)\n",
    "        b_tag_axis = hist.Bin(\"b_tag\", \"b-tagging discriminant\", 50, 0, 1)\n",
    "        \n",
    "        self._accumulator = processor.dict_accumulator({\n",
    "            'Jet_pt': hist.Hist(\"Counts\", dataset_axis, Jet_axis),\n",
    "            'b_tag': hist.Hist(\"Counts\", dataset_axis, b_tag_axis),\n",
    "            'cutflow': processor.defaultdict_accumulator(int)\n",
    "        })\n",
    "    \n",
    "    @property\n",
    "    def accumulator(self):\n",
    "        return self._accumulator\n",
    "    \n",
    "    def process(self, events):\n",
    "        output = self.accumulator.identity()\n",
    "        \n",
    "        dataset = events.metadata[\"dataset\"]\n",
    "        \n",
    "        jets = events.Jet\n",
    "        \n",
    "        # Closest calculates the distance from 172.5 of a group of masses, finds the minimum distance, then returns a Boolean array of the original input array shape with True where the minimum-distance mass is located.\n",
    "        def closest(masses):\n",
    "            delta = abs(172.5 - masses)\n",
    "            closest_masses = delta.min()\n",
    "            is_closest = (delta == closest_masses)\n",
    "            return is_closest\n",
    "        \n",
    "        # We're going to be generating combinations of three jets - that's a lot, and cutting pt off at 30 reduces jets by half.\n",
    "        cut_jets = jets[jets.pt > 30]\n",
    "        \n",
    "        # Get all combinations of three jets.\n",
    "        trijets = cut_jets.choose(3)\n",
    "        # Get combined masses of those combinations, by adding all p4's and then taking .mass.\n",
    "        trijet_masses = (trijets.i0 + trijets.i1 + trijets.i2).mass\n",
    "        # Get the masses closest to specified value (see function above)\n",
    "        is_closest = closest(trijet_masses)\n",
    "        closest_trijets = trijets[is_closest]\n",
    "        # Get pt of the closest trijets.\n",
    "        closest_pt = (closest_trijets.i0 + closest_trijets.i1 + closest_trijets.i2).pt\n",
    "        # Get btag of the closest trijets. np.maximum(x,y) compares two arrays and gets element-wise maximums. We make two comparisons - once between the first and second jet, then between the first comparison and the third jet.\n",
    "        closest_btag = np.maximum(np.maximum(closest_trijets.i0.btag, closest_trijets.i1.btag), closest_trijets.i2.btag)\n",
    "        \n",
    "        output['Jet_pt'].fill(dataset=dataset, Jet_pt=closest_pt.flatten())\n",
    "        output['b_tag'].fill(dataset=dataset, b_tag=closest_btag.flatten())\n",
    "        return output\n",
    "\n",
    "    def postprocess(self, accumulator):\n",
    "        return accumulator"
   ]
  },
  {
   "cell_type": "code",
   "execution_count": 3,
   "metadata": {},
   "outputs": [
    {
     "data": {
      "application/vnd.jupyter.widget-view+json": {
       "model_id": "a54c916e927046fdaecbe2acb94e76b8",
       "version_major": 2,
       "version_minor": 0
      },
      "text/plain": [
       "HBox(children=(FloatProgress(value=0.0, description='Processing', max=1.0, style=ProgressStyle(description_wid…"
      ]
     },
     "metadata": {},
     "output_type": "display_data"
    },
    {
     "name": "stdout",
     "output_type": "stream",
     "text": [
      "\n"
     ]
    }
   ],
   "source": [
    "fileset = {'SingleMu': [\"data/Run2012B_SingleMu.root\"]}\n",
    "\n",
    "output = processor.run_uproot_job(fileset,\n",
    "                                 treename='Events',\n",
    "                                 processor_instance=Processor(),\n",
    "                                 executor=processor.futures_executor,\n",
    "                                 executor_args={'workers':4, 'nano': True},\n",
    "                                 chunksize = 250000,\n",
    "                                 maxchunks=1)"
   ]
  },
  {
   "cell_type": "code",
   "execution_count": 4,
   "metadata": {},
   "outputs": [
    {
     "data": {
      "text/plain": [
       "<matplotlib.axes._subplots.AxesSubplot at 0x7f8af8ee8950>"
      ]
     },
     "execution_count": 4,
     "metadata": {},
     "output_type": "execute_result"
    },
    {
     "data": {
      "image/png": "[encoded data removed]",
      "text/plain": [
       "<Figure size 432x288 with 1 Axes>"
      ]
     },
     "metadata": {
      "needs_background": "light"
     },
     "output_type": "display_data"
    }
   ],
   "source": [
    "hist.plot1d(output['Jet_pt'], overlay='dataset', fill_opts={'edgecolor': (0,0,0,0.3), 'alpha': 0.8})"
   ]
  },
  {
   "cell_type": "code",
   "execution_count": 5,
   "metadata": {},
   "outputs": [
    {
     "data": {
      "text/plain": [
       "<matplotlib.axes._subplots.AxesSubplot at 0x7f8af87c1b10>"
      ]
     },
     "execution_count": 5,
     "metadata": {},
     "output_type": "execute_result"
    },
    {
     "data": {
      "image/png": "[encoded data removed]",
      "text/plain": [
       "<Figure size 432x288 with 1 Axes>"
      ]
     },
     "metadata": {
      "needs_background": "light"
     },
     "output_type": "display_data"
    }
   ],
   "source": [
    "hist.plot1d(output['b_tag'], overlay='dataset', fill_opts={'edgecolor': (0,0,0,0.3), 'alpha': 0.8})"
   ]
  }
 ],
 "metadata": {
  "kernelspec": {
   "display_name": "Python 3",
   "language": "python",
   "name": "python3"
  },
  "language_info": {
   "codemirror_mode": {
    "name": "ipython",
    "version": 3
   },
   "file_extension": ".py",
   "mimetype": "text/x-python",
   "name": "python",
   "nbconvert_exporter": "python",
   "pygments_lexer": "ipython3",
   "version": "3.7.6"
  }
 },
 "nbformat": 4,
 "nbformat_minor": 2
}
