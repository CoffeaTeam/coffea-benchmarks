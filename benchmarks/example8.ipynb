{
 "cells": [
  {
   "cell_type": "code",
   "execution_count": 1,
   "metadata": {},
   "outputs": [],
   "source": [
    "%matplotlib inline\n",
    "from coffea import hist\n",
    "from coffea.analysis_objects import JaggedCandidateArray\n",
    "import coffea.processor as processor\n",
    "import numpy as np\n",
    "import awkward as ak"
   ]
  },
  {
   "cell_type": "code",
   "execution_count": 2,
   "metadata": {},
   "outputs": [],
   "source": [
    "# This program plots the transverse mass of MET and a third lepton, where the third lepton is associated with a lepton pair that has the same flavor, opposite charge, and closest mass to 91.2.\n",
    "\n",
    "class DibosonProcessor(processor.ProcessorABC):\n",
    "    def __init__(self):\n",
    "        dataset_axis = hist.Cat(\"dataset\", \"MET and Third Lepton\")\n",
    "        muon_axis = hist.Bin(\"massT\", \"Transverse Mass\", 50, 15, 2000)\n",
    "        \n",
    "        self._accumulator = processor.dict_accumulator({\n",
    "            'massT': hist.Hist(\"Counts\", dataset_axis, muon_axis),\n",
    "            'cutflow': processor.defaultdict_accumulator(int)\n",
    "        })\n",
    "    \n",
    "    @property\n",
    "    def accumulator(self):\n",
    "        return self._accumulator\n",
    "    \n",
    "    def process(self, df):\n",
    "        output = self.accumulator.identity()\n",
    "        \n",
    "        dataset = df[\"dataset\"]\n",
    "\n",
    "        muons = JaggedCandidateArray.candidatesfromcounts(\n",
    "            df['nMuon'],\n",
    "            pt=df['Muon_pt'].content,\n",
    "            eta=df['Muon_eta'].content,\n",
    "            phi=df['Muon_phi'].content,\n",
    "            mass=df['Muon_mass'].content,\n",
    "            charge=df['Muon_charge'].content\n",
    "            )\n",
    "        electrons = JaggedCandidateArray.candidatesfromcounts(\n",
    "            df['nElectron'],\n",
    "            pt=df['Electron_pt'].content,\n",
    "            eta=df['Electron_eta'].content,\n",
    "            phi=df['Electron_phi'].content,\n",
    "            mass=df['Electron_mass'].content,\n",
    "            charge=df['Electron_charge'].content\n",
    "            )\n",
    "        # We can also construct a jagged array for our MET to bundle pt and phi together.\n",
    "        MET = ak.JaggedArray.fromcounts(np.ones(muons.size, dtype=np.uint64), ak.Table({'pt': df['MET_pt'], 'phi': df['MET_phi']}))\n",
    "\n",
    "        \n",
    "        # This function gets us a Boolean array which highlights the mass in a sublist that is closest to 91.2\n",
    "        def closest(masses):\n",
    "            delta = abs(91.2 - masses)\n",
    "            closest_masses = delta.min()\n",
    "            is_closest = (delta == closest_masses)\n",
    "            return is_closest\n",
    "\n",
    "        # This function gets us a Boolean array which highlights the mass in a sublist that is highest. \n",
    "        def highest(pt):\n",
    "            highest_pt = pt.max()\n",
    "            is_highest = (pt == highest_pt)\n",
    "            return is_highest\n",
    "\n",
    "        # This function calculates the transverse mass of MET and the third lepton in a triplet.\n",
    "        def transverse(MET_pts, MET_phis, third_p4):\n",
    "            theta = abs(MET_phis - third_p4.phi)\n",
    "            massT = np.sqrt(2 * MET_pts * third_p4.pt * (1 - np.cos(theta)))\n",
    "            return massT\n",
    "\n",
    "        # This function removes redundant (repeated) elements of a triplet, i.e. ((1, 2), 1) or ((1, 2), 2).\n",
    "        def rmDuplicates(triplet):\n",
    "            pair = triplet.i0\n",
    "            third = triplet.i1\n",
    "            return triplet[np.not_equal(pair.i0.p4, third.p4) & np.not_equal(pair.i1.p4, third.p4)]\n",
    "\n",
    "        \n",
    "        # Selects events that have exactly 3 leptons. We have to keep muons and electrons separate.\n",
    "        three_leptons = (muons.counts + electrons.counts) >= 3\n",
    "        # The (& pt > -1) here keeps jaggedness. False statements result in [] in place of elements, instead of dropping them. This keeps our lepton arrays consistent in size and indexing. We'll use it throughout this exercise, but that's all it's doing!\n",
    "        muons_3lep = muons[three_leptons & (muons.pt > -1)]\n",
    "        electrons_3lep = electrons[three_leptons & (electrons.pt > -1)]\n",
    "\n",
    "        # There are four possible combinations of 3 leptons: (ee)m (mm)e (ee)e (mm)m. eem and mme are easy: we choose two from e's and m's, and cross it with the other. Now we have a single ((e, e), m), a tuple with a pair and an extra lepton.\n",
    "        eem = electrons_3lep.choose(2).cross(muons_3lep)\n",
    "        mme = muons_3lep.choose(2).cross(electrons_3lep)\n",
    "        # eee and mmm are harder, but we can start by choosing two and crossing with itself.\n",
    "        eee = electrons_3lep.choose(2).cross(electrons_3lep)\n",
    "        mmm = muons_3lep.choose(2).cross(muons_3lep)\n",
    "        # Unfortunately, this has redundant elements: ((1, 2), 1) for instance. So we check that the 3rd lepton is not in the pair.\n",
    "        eee = rmDuplicates(eee)\n",
    "        mmm = rmDuplicates(mmm)\n",
    "\n",
    "        # Check opposite charge.\n",
    "        opp_eem = eem[eem.i0.i0.charge != eem.i0.i1.charge]\n",
    "        opp_mme = mme[mme.i0.i0.charge != mme.i0.i1.charge]\n",
    "        opp_eee = eee[eee.i0.i0.charge != eee.i0.i1.charge]\n",
    "        opp_mmm = mmm[mmm.i0.i0.charge != mmm.i0.i1.charge]\n",
    "\n",
    "        # Check which pair(s) have mass closest to 91.2.\n",
    "        closest_eem = opp_eem[closest(opp_eem.i0.mass)]\n",
    "        closest_mme = opp_mme[closest(opp_mme.i0.mass)]\n",
    "        closest_eee = opp_eee[closest(opp_eee.i0.mass)]\n",
    "        closest_mmm = opp_mmm[closest(opp_mmm.i0.mass)]\n",
    "        \n",
    "        # Finally, if there's still more than one triplet, get the one with the highest third-lepton pt.\n",
    "        final_eem = closest_eem[highest(closest_eem.i1.pt)]\n",
    "        final_mme = closest_mme[highest(closest_mme.i1.pt)]\n",
    "        final_eee = closest_eee[highest(closest_eee.i1.pt)]\n",
    "        final_mmm = closest_mmm[highest(closest_mmm.i1.pt)]\n",
    "\n",
    "        # Now we just need to get the associated METs. We've preserved jaggedness so far, so this isn't too difficult. The above should give us a list of sublists each containing one triplet. If we cross this with MET, we'll get something fairly clunk, but for our purposes, it'll work just fine: (MET, ((e, e), e)). We don't need our pair anymore, so the relatively complex accessibility to it is luckily irrelevant.\n",
    "        MET_eem = MET.cross(final_eem.i1.p4)\n",
    "        MET_mme = MET.cross(final_mme.i1.p4)\n",
    "        MET_eee = MET.cross(final_eee.i1.p4)\n",
    "        MET_mmm = MET.cross(final_mmm.i1.p4)\n",
    "\n",
    "        # Use the transverse function above to calculate the transverse mass between MET and each combination.\n",
    "        eem_massT = transverse(MET_eem.i0['pt'], MET_eem.i0['phi'], MET_eem.i1).content\n",
    "        mme_massT = transverse(MET_mme.i0['pt'], MET_mme.i0['phi'], MET_mme.i1).content\n",
    "        eee_massT = transverse(MET_eee.i0['pt'], MET_eee.i0['phi'], MET_eee.i1).content\n",
    "        mmm_massT = transverse(MET_mmm.i0['pt'], MET_mmm.i0['phi'], MET_mmm.i1).content\n",
    "\n",
    "        # Put together all the transverse masses into one array.\n",
    "        massT = np.concatenate((eem_massT, mme_massT, eee_massT, mmm_massT))\n",
    "        \n",
    "        output['massT'].fill(dataset=dataset, massT=massT)\n",
    "        return output\n",
    "\n",
    "    def postprocess(self, accumulator):\n",
    "        return accumulator"
   ]
  },
  {
   "cell_type": "code",
   "execution_count": 3,
   "metadata": {},
   "outputs": [
    {
     "name": "stderr",
     "output_type": "stream",
     "text": [
      "Preprocessing: 100%|██████████| 1/1 [00:00<00:00, 25.83it/s]\n",
      "Processing: 100%|██████████| 54/54 [08:00<00:00,  6.80s/items]\n"
     ]
    }
   ],
   "source": [
    "fileset = {'massT': [\"data/Run2012B_SingleMu.root\"]}\n",
    "output = processor.run_uproot_job(fileset,\n",
    "                                 treename='Events',\n",
    "                                 processor_instance=DibosonProcessor(),\n",
    "                                 executor=processor.futures_executor,\n",
    "                                 executor_args={'workers':4},\n",
    "                                 chunksize = 1000000)"
   ]
  },
  {
   "cell_type": "code",
   "execution_count": 4,
   "metadata": {},
   "outputs": [
    {
     "data": {
      "text/plain": [
       "(<Figure size 432x288 with 1 Axes>,\n",
       " <matplotlib.axes._subplots.AxesSubplot at 0x7fe4ce955c88>,\n",
       " {<StringBin (massT) instance at 0x7fe4ce95d470>: [<matplotlib.collections.PolyCollection at 0x7fe53224a668>],\n",
       "  'legend': <matplotlib.legend.Legend at 0x7fe53224a940>})"
      ]
     },
     "execution_count": 4,
     "metadata": {},
     "output_type": "execute_result"
    },
    {
     "data": {
      "image/png": "[encoded data removed]",
      "text/plain": [
       "<Figure size 432x288 with 1 Axes>"
      ]
     },
     "metadata": {},
     "output_type": "display_data"
    }
   ],
   "source": [
    "hist.plot1d(output['massT'], overlay='dataset', fill_opts={'edgecolor': (0,0,0,0.3), 'alpha': 0.8})"
   ]
  },
  {
   "cell_type": "code",
   "execution_count": 5,
   "metadata": {},
   "outputs": [],
   "source": [
    "for key, value in output['cutflow'].items():\n",
    "    print(key, value)"
   ]
  }
 ],
 "metadata": {
  "kernelspec": {
   "display_name": "Python 3",
   "language": "python",
   "name": "python3"
  },
  "language_info": {
   "codemirror_mode": {
    "name": "ipython",
    "version": 3
   },
   "file_extension": ".py",
   "mimetype": "text/x-python",
   "name": "python",
   "nbconvert_exporter": "python",
   "pygments_lexer": "ipython3",
   "version": "3.6.5"
  }
 },
 "nbformat": 4,
 "nbformat_minor": 2
}
