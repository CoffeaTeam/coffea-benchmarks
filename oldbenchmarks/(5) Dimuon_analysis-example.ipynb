{
 "cells": [
  {
   "cell_type": "code",
   "execution_count": 1,
   "metadata": {},
   "outputs": [],
   "source": [
    "%matplotlib inline\n",
    "from coffea import hist\n",
    "from coffea.analysis_objects import JaggedCandidateArray\n",
    "import coffea.processor as processor"
   ]
  },
  {
   "cell_type": "code",
   "execution_count": 2,
   "metadata": {},
   "outputs": [],
   "source": [
    "# This program will plot the opposite-sign muon pair mass for all possible combinations of muons for each event.\n",
    "\n",
    "class MuonProcessor(processor.ProcessorABC):\n",
    "    def __init__(self):\n",
    "        dataset_axis = hist.Cat(\"dataset\", \"\")\n",
    "        muon_axis = hist.Bin(\"mass\", \"Muon Mass [GeV]\", 50, 5, 100)\n",
    "        \n",
    "        self._accumulator = processor.dict_accumulator({\n",
    "            'mass': hist.Hist(\"Counts\", dataset_axis, muon_axis),\n",
    "            'cutflow': processor.defaultdict_accumulator(int)\n",
    "        })\n",
    "    \n",
    "    @property\n",
    "    def accumulator(self):\n",
    "        return self._accumulator\n",
    "    \n",
    "    def process(self, df):\n",
    "        output = self.accumulator.identity()\n",
    "        \n",
    "        dataset = df[\"dataset\"]\n",
    "        \n",
    "        muons = JaggedCandidateArray.candidatesfromcounts(\n",
    "            df['nMuon'],\n",
    "            pt=df['Muon_pt'].content,\n",
    "            eta=df['Muon_eta'].content,\n",
    "            phi=df['Muon_phi'].content,\n",
    "            mass=df['Muon_mass'].content,\n",
    "            charge=df['Muon_charge'].content\n",
    "            )\n",
    "        \n",
    "        output['cutflow']['all muons'] += muons.mass.counts.sum()\n",
    "        \n",
    "        # Get all combinations of muon pairs in every event. distincts() generates tuples of all possible combinations within a single list. \n",
    "        dimuons = muons.distincts()\n",
    "        output['cutflow']['all pairs'] += dimuons.mass.counts.sum()\n",
    "        \n",
    "        # Check that pairs have opposite charge. i0, i1, ... retrieve tuple values (in this case, i0 is the first muon, i1 the second)\n",
    "        opposites = (dimuons.i0.charge != dimuons.i1.charge)\n",
    "        \n",
    "        # Mask the dimuon pairs with the opposites to get only oppositely-charged muon pairs.\n",
    "        good_dimuons = dimuons[opposites]\n",
    "        output['cutflow']['final pairs'] += good_dimuons.mass.counts.sum()\n",
    "        \n",
    "        output['mass'].fill(dataset=dataset, mass=good_dimuons['p4'].mass.flatten())\n",
    "        \n",
    "        return output\n",
    "\n",
    "    def postprocess(self, accumulator):\n",
    "        return accumulator"
   ]
  },
  {
   "cell_type": "code",
   "execution_count": 3,
   "metadata": {},
   "outputs": [
    {
     "name": "stderr",
     "output_type": "stream",
     "text": [
      "Preprocessing: 100%|██████████| 1/1 [00:00<00:00,  6.72it/s]\n",
      "Processing: 100%|██████████| 3/3 [00:08<00:00,  2.67s/items]\n"
     ]
    }
   ],
   "source": [
    "fileset = {'Muons': [\"root://cmsxrootd.fnal.gov//store/mc/RunIISummer16NanoAODv4/THQ_Hincl_13TeV-madgraph-pythia8_TuneCUETP8M1/NANOAODSIM/PUMoriond17_Nano14Dec2018_102X_mcRun2_asymptotic_v6-v1/50000/C9B654CF-0B51-4444-A177-479200DCC429.root\"]}\n",
    "output = processor.run_uproot_job(fileset,\n",
    "                                 treename='Events',\n",
    "                                 processor_instance=MuonProcessor(),\n",
    "                                 executor=processor.futures_executor,\n",
    "                                 executor_args={'workers':4},\n",
    "                                 chunksize = 500000)"
   ]
  },
  {
   "cell_type": "code",
   "execution_count": 4,
   "metadata": {},
   "outputs": [
    {
     "data": {
      "text/plain": [
       "(<Figure size 432x288 with 1 Axes>,\n",
       " <matplotlib.axes._subplots.AxesSubplot at 0x7f4368e76ac8>,\n",
       " {<StringBin (Muons) instance at 0x7f4363fc9d68>: [<matplotlib.collections.PolyCollection at 0x7f43d5c1e908>],\n",
       "  'legend': <matplotlib.legend.Legend at 0x7f43d5c1ec18>})"
      ]
     },
     "execution_count": 4,
     "metadata": {},
     "output_type": "execute_result"
    },
    {
     "data": {
      "image/png": "[encoded data removed]",
      "text/plain": [
       "<Figure size 432x288 with 1 Axes>"
      ]
     },
     "metadata": {},
     "output_type": "display_data"
    }
   ],
   "source": [
    "hist.plot1d(output['mass'], overlay='dataset', fill_opts={'edgecolor': (0,0,0,0.3), 'alpha': 0.8})"
   ]
  },
  {
   "cell_type": "code",
   "execution_count": 5,
   "metadata": {},
   "outputs": [
    {
     "name": "stdout",
     "output_type": "stream",
     "text": [
      "all muons 1010425\n",
      "all pairs 385359\n",
      "final pairs 206728\n"
     ]
    }
   ],
   "source": [
    "for key, value in output['cutflow'].items():\n",
    "    print(key, value)"
   ]
  }
 ],
 "metadata": {
  "kernelspec": {
   "display_name": "Python 3",
   "language": "python",
   "name": "python3"
  },
  "language_info": {
   "codemirror_mode": {
    "name": "ipython",
    "version": 3
   },
   "file_extension": ".py",
   "mimetype": "text/x-python",
   "name": "python",
   "nbconvert_exporter": "python",
   "pygments_lexer": "ipython3",
   "version": "3.6.5"
  }
 },
 "nbformat": 4,
 "nbformat_minor": 2
}
