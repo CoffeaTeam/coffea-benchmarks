{
 "cells": [
  {
   "cell_type": "code",
   "execution_count": 1,
   "metadata": {},
   "outputs": [],
   "source": [
    "import time\n",
    "\n",
    "import awkward as ak\n",
    "import hist\n",
    "import matplotlib.pyplot as plt\n",
    "import numpy as np\n",
    "from coffea import processor\n",
    "\n",
    "# The opendata files are non-standard NanoAOD, so some optional data columns are missing\n",
    "processor.NanoAODSchema.warn_missing_crossrefs = False\n",
    "\n",
    "\n",
    "def run(query, chunksize=2**19, workers=24):\n",
    "    tic = time.monotonic()\n",
    "    output, metrics = processor.run_uproot_job(\n",
    "        fileset={\"SingleMu\": [\"/ssd/Run2012B_SingleMu.root\"]},\n",
    "        treename=\"Events\",\n",
    "        processor_instance=query(),\n",
    "        executor=processor.futures_executor,\n",
    "        executor_args={\n",
    "            \"workers\": workers,\n",
    "            \"schema\": processor.NanoAODSchema,\n",
    "            \"savemetrics\": True,\n",
    "            \"status\": False,\n",
    "        },\n",
    "        chunksize=chunksize,\n",
    "    )\n",
    "    toc = time.monotonic()\n",
    "    metrics[\"query\"] = query.__name__\n",
    "    metrics[\"chunksize\"] = chunksize\n",
    "    metrics[\"workers\"] = workers\n",
    "    metrics[\"walltime\"] = toc - tic\n",
    "    return output, metrics"
   ]
  },
  {
   "cell_type": "markdown",
   "metadata": {},
   "source": [
    "# Query 1\n",
    "\n",
    "Plot the <i>E</i><sub>T</sub><sup>miss</sup> of all events."
   ]
  },
  {
   "cell_type": "code",
   "execution_count": 2,
   "metadata": {},
   "outputs": [
    {
     "data": {
      "text/plain": [
       "{'bytesread': 314558409,\n",
       " 'entries': 53446198,\n",
       " 'columns': {'MET_pt'},\n",
       " 'processtime': 2.7774274349212646,\n",
       " 'chunks': 102,\n",
       " 'query': 'Q1Processor',\n",
       " 'chunksize': 524288,\n",
       " 'workers': 24,\n",
       " 'walltime': 1.6080826809998143}"
      ]
     },
     "execution_count": 2,
     "metadata": {},
     "output_type": "execute_result"
    },
    {
     "data": {
      "image/png": "[encoded data removed]",
      "text/plain": [
       "<Figure size 432x288 with 1 Axes>"
      ]
     },
     "metadata": {
      "needs_background": "light"
     },
     "output_type": "display_data"
    }
   ],
   "source": [
    "class Q1Processor(processor.ProcessorABC):\n",
    "    def process(self, events):\n",
    "        return (\n",
    "            hist.Hist.new.Reg(100, 0, 200, name=\"met\", label=\"$E_{T}^{miss}$ [GeV]\")\n",
    "            .Double()\n",
    "            .fill(events.MET.pt)\n",
    "        )\n",
    "\n",
    "    def postprocess(self, accumulator):\n",
    "        return accumulator\n",
    "\n",
    "\n",
    "out, metrics = run(Q1Processor)\n",
    "out.plot1d()\n",
    "metrics"
   ]
  },
  {
   "cell_type": "markdown",
   "metadata": {},
   "source": [
    "# Query 2\n",
    "Plot the <i>p</i><sub>T</sub> of all jets."
   ]
  },
  {
   "cell_type": "code",
   "execution_count": 3,
   "metadata": {},
   "outputs": [
    {
     "data": {
      "text/plain": [
       "{'bytesread': 891917006,\n",
       " 'entries': 53446198,\n",
       " 'columns': {'Jet_pt', 'nJet'},\n",
       " 'processtime': 10.380706310272217,\n",
       " 'chunks': 102,\n",
       " 'query': 'Q2Processor',\n",
       " 'chunksize': 524288,\n",
       " 'workers': 24,\n",
       " 'walltime': 1.6780950600000324}"
      ]
     },
     "execution_count": 3,
     "metadata": {},
     "output_type": "execute_result"
    },
    {
     "data": {
      "image/png": "[encoded data removed]",
      "text/plain": [
       "<Figure size 432x288 with 1 Axes>"
      ]
     },
     "metadata": {
      "needs_background": "light"
     },
     "output_type": "display_data"
    }
   ],
   "source": [
    "class Q2Processor(processor.ProcessorABC):\n",
    "    def process(self, events):\n",
    "        return (\n",
    "            hist.Hist.new.Reg(100, 0, 200, name=\"ptj\", label=\"Jet $p_{T}$ [GeV]\")\n",
    "            .Double()\n",
    "            .fill(ak.flatten(events.Jet.pt))\n",
    "        )\n",
    "\n",
    "    def postprocess(self, accumulator):\n",
    "        return accumulator\n",
    "\n",
    "\n",
    "out, metrics = run(Q2Processor)\n",
    "out.plot1d()\n",
    "metrics"
   ]
  },
  {
   "cell_type": "markdown",
   "metadata": {},
   "source": [
    "# Query 3\n",
    "Plot the <i>p</i><sub>T</sub> of jets with |<i>η</i>| < 1."
   ]
  },
  {
   "cell_type": "code",
   "execution_count": 4,
   "metadata": {},
   "outputs": [
    {
     "data": {
      "text/plain": [
       "{'bytesread': 1676450252,\n",
       " 'entries': 53446198,\n",
       " 'columns': {'Jet_eta', 'Jet_pt', 'nJet'},\n",
       " 'processtime': 20.93133306503296,\n",
       " 'chunks': 102,\n",
       " 'query': 'Q3Processor',\n",
       " 'chunksize': 524288,\n",
       " 'workers': 24,\n",
       " 'walltime': 2.5585319629999503}"
      ]
     },
     "execution_count": 4,
     "metadata": {},
     "output_type": "execute_result"
    },
    {
     "data": {
      "image/png": "[encoded data removed]",
      "text/plain": [
       "<Figure size 432x288 with 1 Axes>"
      ]
     },
     "metadata": {
      "needs_background": "light"
     },
     "output_type": "display_data"
    }
   ],
   "source": [
    "class Q3Processor(processor.ProcessorABC):\n",
    "    def process(self, events):\n",
    "        return (\n",
    "            hist.Hist.new.Reg(100, 0, 200, name=\"ptj\", label=\"Jet $p_{T}$ [GeV]\")\n",
    "            .Double()\n",
    "            .fill(ak.flatten(events.Jet[abs(events.Jet.eta) < 1].pt))\n",
    "        )\n",
    "\n",
    "    def postprocess(self, accumulator):\n",
    "        return accumulator\n",
    "\n",
    "\n",
    "out, metrics = run(Q3Processor)\n",
    "out.plot1d()\n",
    "metrics"
   ]
  },
  {
   "cell_type": "markdown",
   "metadata": {},
   "source": [
    "# Query 4\n",
    "Plot the <i>E</i><sub>T</sub><sup>miss</sup> of events that have at least two jets with <i>p</i><sub>T</sub> > 40 GeV."
   ]
  },
  {
   "cell_type": "code",
   "execution_count": 5,
   "metadata": {},
   "outputs": [
    {
     "data": {
      "text/plain": [
       "{'bytesread': 1119573557,\n",
       " 'entries': 53446198,\n",
       " 'columns': {'Jet_pt', 'MET_pt', 'nJet'},\n",
       " 'processtime': 13.629399061203003,\n",
       " 'chunks': 102,\n",
       " 'query': 'Q4Processor',\n",
       " 'chunksize': 524288,\n",
       " 'workers': 24,\n",
       " 'walltime': 2.007429679000097}"
      ]
     },
     "execution_count": 5,
     "metadata": {},
     "output_type": "execute_result"
    },
    {
     "data": {
      "image/png": "[encoded data removed]",
      "text/plain": [
       "<Figure size 432x288 with 1 Axes>"
      ]
     },
     "metadata": {
      "needs_background": "light"
     },
     "output_type": "display_data"
    }
   ],
   "source": [
    "class Q4Processor(processor.ProcessorABC):\n",
    "    def process(self, events):\n",
    "        has2jets = ak.sum(events.Jet.pt > 40, axis=1) >= 2\n",
    "        return (\n",
    "            hist.Hist.new.Reg(100, 0, 200, name=\"met\", label=\"$E_{T}^{miss}$ [GeV]\")\n",
    "            .Double()\n",
    "            .fill(events[has2jets].MET.pt)\n",
    "        )\n",
    "\n",
    "    def postprocess(self, accumulator):\n",
    "        return accumulator\n",
    "\n",
    "\n",
    "out, metrics = run(Q4Processor)\n",
    "out.plot1d()\n",
    "metrics"
   ]
  },
  {
   "cell_type": "markdown",
   "metadata": {},
   "source": [
    "# Query 5\n",
    "Plot the <i>E</i><sub>T</sub><sup>miss</sup> of events that have an\n",
    "opposite-charge muon pair with an invariant mass between 60 and 120 GeV."
   ]
  },
  {
   "cell_type": "code",
   "execution_count": 6,
   "metadata": {},
   "outputs": [
    {
     "data": {
      "text/plain": [
       "{'bytesread': 1687594871,\n",
       " 'entries': 53446198,\n",
       " 'columns': {'MET_pt',\n",
       "  'Muon_charge',\n",
       "  'Muon_eta',\n",
       "  'Muon_mass',\n",
       "  'Muon_phi',\n",
       "  'Muon_pt',\n",
       "  'nMuon'},\n",
       " 'processtime': 39.213595390319824,\n",
       " 'chunks': 102,\n",
       " 'query': 'Q5Processor',\n",
       " 'chunksize': 524288,\n",
       " 'workers': 24,\n",
       " 'walltime': 3.3579888279998613}"
      ]
     },
     "execution_count": 6,
     "metadata": {},
     "output_type": "execute_result"
    },
    {
     "data": {
      "image/png": "[encoded data removed]",
      "text/plain": [
       "<Figure size 432x288 with 1 Axes>"
      ]
     },
     "metadata": {
      "needs_background": "light"
     },
     "output_type": "display_data"
    }
   ],
   "source": [
    "class Q5Processor(processor.ProcessorABC):\n",
    "    def process(self, events):\n",
    "        mupair = ak.combinations(events.Muon, 2)\n",
    "        with np.errstate(invalid=\"ignore\"):\n",
    "            pairmass = (mupair.slot0 + mupair.slot1).mass\n",
    "        goodevent = ak.any(\n",
    "            (pairmass > 60)\n",
    "            & (pairmass < 120)\n",
    "            & (mupair.slot0.charge == -mupair.slot1.charge),\n",
    "            axis=1,\n",
    "        )\n",
    "        return (\n",
    "            hist.Hist.new.Reg(100, 0, 200, name=\"met\", label=\"$E_{T}^{miss}$ [GeV]\")\n",
    "            .Double()\n",
    "            .fill(events[goodevent].MET.pt)\n",
    "        )\n",
    "\n",
    "    def postprocess(self, accumulator):\n",
    "        return accumulator\n",
    "\n",
    "\n",
    "out, metrics = run(Q5Processor)\n",
    "out.plot1d()\n",
    "metrics"
   ]
  },
  {
   "cell_type": "markdown",
   "metadata": {},
   "source": [
    "# Query 6\n",
    "For events with at least three jets, plot the <i>p</i><sub>T</sub> of the trijet four-momentum that has the invariant mass closest to 172.5 GeV in each event and plot the maximum <i>b</i>-tagging discriminant value among the jets in this trijet."
   ]
  },
  {
   "cell_type": "code",
   "execution_count": 7,
   "metadata": {},
   "outputs": [
    {
     "data": {
      "text/plain": [
       "{'bytesread': 3660655077,\n",
       " 'entries': 53446198,\n",
       " 'columns': {'Jet_btag', 'Jet_eta', 'Jet_mass', 'Jet_phi', 'Jet_pt', 'nJet'},\n",
       " 'processtime': 247.16478276252747,\n",
       " 'chunks': 102,\n",
       " 'query': 'Q6Processor',\n",
       " 'chunksize': 524288,\n",
       " 'workers': 24,\n",
       " 'walltime': 13.536233111000001}"
      ]
     },
     "execution_count": 7,
     "metadata": {},
     "output_type": "execute_result"
    },
    {
     "data": {
      "image/png": "[encoded data removed]",
      "text/plain": [
       "<Figure size 576x288 with 2 Axes>"
      ]
     },
     "metadata": {
      "needs_background": "light"
     },
     "output_type": "display_data"
    }
   ],
   "source": [
    "class Q6Processor(processor.ProcessorABC):\n",
    "    def process(self, events):\n",
    "        # this line converts the coordinate system from (pt,eta,phi,mass) to (px,py,pz,E)\n",
    "        # which significantly speeds up later steps\n",
    "        jets = ak.zip(\n",
    "            {k: getattr(events.Jet, k) for k in [\"x\", \"y\", \"z\", \"t\", \"btag\"]},\n",
    "            with_name=\"LorentzVector\",\n",
    "            behavior=events.Jet.behavior,\n",
    "        )\n",
    "        trijet = ak.combinations(jets, 3, fields=[\"j1\", \"j2\", \"j3\"])\n",
    "        trijet[\"p4\"] = trijet.j1 + trijet.j2 + trijet.j3\n",
    "        trijet = ak.flatten(\n",
    "            trijet[ak.singletons(ak.argmin(abs(trijet.p4.mass - 172.5), axis=1))]\n",
    "        )\n",
    "        maxBtag = np.maximum(\n",
    "            trijet.j1.btag,\n",
    "            np.maximum(\n",
    "                trijet.j2.btag,\n",
    "                trijet.j3.btag,\n",
    "            ),\n",
    "        )\n",
    "        return {\n",
    "            \"trijetpt\": hist.Hist.new.Reg(\n",
    "                100, 0, 200, name=\"pt3j\", label=\"Trijet $p_{T}$ [GeV]\"\n",
    "            )\n",
    "            .Double()\n",
    "            .fill(trijet.p4.pt),\n",
    "            \"maxbtag\": hist.Hist.new.Reg(\n",
    "                100, 0, 1, name=\"btag\", label=\"Max jet b-tag score\"\n",
    "            )\n",
    "            .Double()\n",
    "            .fill(maxBtag),\n",
    "        }\n",
    "\n",
    "    def postprocess(self, accumulator):\n",
    "        return accumulator\n",
    "\n",
    "\n",
    "out, metrics = run(Q6Processor)\n",
    "fig, (ax1, ax2) = plt.subplots(1, 2, figsize=(8, 4), sharey=True)\n",
    "out[\"trijetpt\"].plot1d(ax=ax1)\n",
    "out[\"maxbtag\"].plot1d(ax=ax2)\n",
    "metrics"
   ]
  },
  {
   "cell_type": "markdown",
   "metadata": {},
   "source": [
    "# Query 7\n",
    "Plot the scalar sum in each event of the <i>p</i><sub>T</sub> of jets with <i>p</i><sub>T</sub> > 30 GeV that are not within 0.4 in Δ<i>R</i> of any light lepton with <i>p</i><sub>T</sub> > 10 GeV."
   ]
  },
  {
   "cell_type": "code",
   "execution_count": 8,
   "metadata": {},
   "outputs": [
    {
     "data": {
      "text/plain": [
       "{'bytesread': 3890192921,\n",
       " 'entries': 53446198,\n",
       " 'columns': {'Electron_eta',\n",
       "  'Electron_phi',\n",
       "  'Electron_pt',\n",
       "  'Jet_eta',\n",
       "  'Jet_phi',\n",
       "  'Jet_pt',\n",
       "  'Muon_eta',\n",
       "  'Muon_phi',\n",
       "  'Muon_pt',\n",
       "  'nElectron',\n",
       "  'nJet',\n",
       "  'nMuon'},\n",
       " 'processtime': 78.45437359809875,\n",
       " 'chunks': 102,\n",
       " 'query': 'Q7Processor',\n",
       " 'chunksize': 524288,\n",
       " 'workers': 24,\n",
       " 'walltime': 5.186383785000089}"
      ]
     },
     "execution_count": 8,
     "metadata": {},
     "output_type": "execute_result"
    },
    {
     "data": {
      "image/png": "[encoded data removed]",
      "text/plain": [
       "<Figure size 432x288 with 1 Axes>"
      ]
     },
     "metadata": {
      "needs_background": "light"
     },
     "output_type": "display_data"
    }
   ],
   "source": [
    "class Q7Processor(processor.ProcessorABC):\n",
    "    def process(self, events):\n",
    "        cleanjets = events.Jet[\n",
    "            ak.all(\n",
    "                events.Jet.metric_table(events.Muon[events.Muon.pt > 10]) >= 0.4, axis=2\n",
    "            )\n",
    "            & ak.all(\n",
    "                events.Jet.metric_table(events.Electron[events.Electron.pt > 10]) >= 0.4,\n",
    "                axis=2,\n",
    "            )\n",
    "            & (events.Jet.pt > 30)\n",
    "        ]\n",
    "        return (\n",
    "            hist.Hist.new.Reg(\n",
    "                100, 0, 200, name=\"sumjetpt\", label=\"Jet $\\sum p_{T}$ [GeV]\"\n",
    "            )\n",
    "            .Double()\n",
    "            .fill(ak.sum(cleanjets.pt, axis=1))\n",
    "        )\n",
    "\n",
    "    def postprocess(self, accumulator):\n",
    "        return accumulator\n",
    "\n",
    "\n",
    "out, metrics = run(Q7Processor)\n",
    "out.plot1d()\n",
    "metrics"
   ]
  },
  {
   "cell_type": "markdown",
   "metadata": {},
   "source": [
    "# Query 8\n",
    "For events with at least three light leptons and a same-flavor opposite-charge light lepton pair, find such a pair that has the invariant mass closest to 91.2 GeV in each event and plot the transverse mass of the system consisting of the missing tranverse momentum and the highest-<i>p</i><sub>T</sub> light lepton not in this pair."
   ]
  },
  {
   "cell_type": "code",
   "execution_count": 9,
   "metadata": {},
   "outputs": [
    {
     "data": {
      "text/plain": [
       "{'bytesread': 2280546738,\n",
       " 'entries': 53446198,\n",
       " 'columns': {'Electron_charge',\n",
       "  'Electron_eta',\n",
       "  'Electron_mass',\n",
       "  'Electron_phi',\n",
       "  'Electron_pt',\n",
       "  'MET_phi',\n",
       "  'MET_pt',\n",
       "  'Muon_charge',\n",
       "  'Muon_eta',\n",
       "  'Muon_mass',\n",
       "  'Muon_phi',\n",
       "  'Muon_pt',\n",
       "  'nElectron',\n",
       "  'nMuon'},\n",
       " 'processtime': 61.07357311248779,\n",
       " 'chunks': 102,\n",
       " 'query': 'Q8Processor',\n",
       " 'chunksize': 524288,\n",
       " 'workers': 24,\n",
       " 'walltime': 4.237492516999964}"
      ]
     },
     "execution_count": 9,
     "metadata": {},
     "output_type": "execute_result"
    },
    {
     "data": {
      "image/png": "[encoded data removed]",
      "text/plain": [
       "<Figure size 432x288 with 1 Axes>"
      ]
     },
     "metadata": {
      "needs_background": "light"
     },
     "output_type": "display_data"
    }
   ],
   "source": [
    "class Q8Processor(processor.ProcessorABC):\n",
    "    def process(self, events):\n",
    "        events[\"Electron\", \"pdgId\"] = -11 * events.Electron.charge\n",
    "        events[\"Muon\", \"pdgId\"] = -13 * events.Muon.charge\n",
    "        events[\"leptons\"] = ak.concatenate(\n",
    "            [events.Electron, events.Muon],\n",
    "            axis=1,\n",
    "        )\n",
    "        events = events[ak.num(events.leptons) >= 3]\n",
    "\n",
    "        pair = ak.argcombinations(events.leptons, 2, fields=[\"l1\", \"l2\"])\n",
    "        pair = pair[(events.leptons[pair.l1].pdgId == -events.leptons[pair.l2].pdgId)]\n",
    "        with np.errstate(invalid=\"ignore\"):\n",
    "            pair = pair[\n",
    "                ak.singletons(\n",
    "                    ak.argmin(\n",
    "                        abs(\n",
    "                            (events.leptons[pair.l1] + events.leptons[pair.l2]).mass\n",
    "                            - 91.2\n",
    "                        ),\n",
    "                        axis=1,\n",
    "                    )\n",
    "                )\n",
    "            ]\n",
    "        events = events[ak.num(pair) > 0]\n",
    "        pair = pair[ak.num(pair) > 0][:, 0]\n",
    "\n",
    "        l3 = ak.local_index(events.leptons)\n",
    "        l3 = l3[(l3 != pair.l1) & (l3 != pair.l2)]\n",
    "        l3 = l3[ak.argmax(events.leptons[l3].pt, axis=1, keepdims=True)]\n",
    "        l3 = events.leptons[l3][:, 0]\n",
    "\n",
    "        mt = np.sqrt(2 * l3.pt * events.MET.pt * (1 - np.cos(events.MET.delta_phi(l3))))\n",
    "        return (\n",
    "            hist.Hist.new.Reg(\n",
    "                100, 0, 200, name=\"mt\", label=\"$\\ell$-MET transverse mass [GeV]\"\n",
    "            )\n",
    "            .Double()\n",
    "            .fill(mt)\n",
    "        )\n",
    "\n",
    "    def postprocess(self, accumulator):\n",
    "        return accumulator\n",
    "\n",
    "\n",
    "out, metrics = run(Q8Processor)\n",
    "out.plot1d()\n",
    "metrics"
   ]
  },
  {
   "cell_type": "code",
   "execution_count": null,
   "metadata": {},
   "outputs": [],
   "source": []
  }
 ],
 "metadata": {
  "kernelspec": {
   "display_name": "Python 3 (ipykernel)",
   "language": "python",
   "name": "python3"
  },
  "language_info": {
   "codemirror_mode": {
    "name": "ipython",
    "version": 3
   },
   "file_extension": ".py",
   "mimetype": "text/x-python",
   "name": "python",
   "nbconvert_exporter": "python",
   "pygments_lexer": "ipython3",
   "version": "3.8.12"
  }
 },
 "nbformat": 4,
 "nbformat_minor": 4
}
